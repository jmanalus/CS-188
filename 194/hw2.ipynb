{
 "metadata": {
  "name": "HW2"
 },
 "nbformat": 3,
 "nbformat_minor": 0,
 "worksheets": [
  {
   "cells": [
    {
     "cell_type": "markdown",
     "metadata": {},
     "source": "CS194-16 Introduction to Data Science\n\n**Name**: *Jonathan Manalus*\n\n**Student ID**: *22037129*\n\n\nAssignment 2: Introduction to Machine Learning: Clustering and Regression\n===\n\n## Overview\n\nIn this assignment, we will use machine learning techniques to perform data analysis and learn models about our data. We will use a real world music dataset from [Last.fm](http://last.fm) for this assignment. There are two parts to this assignment: In the first part we will look at Unsupervised Learning with clustering and in the second part, we will study Supervised Learning. The play data (and user/artist matrix) comes from the [Last.fm 1K Users dataset](http://www.dtic.upf.edu/~ocelma/MusicRecommendationDataset/lastfm-1K.html), while the tags come from [the Last.fm Music Tags dataset](http://musicmachinery.com/2010/11/10/lastfm-artisttags2007/). You won't have to interact with these datasets directly, because we've already preprocessed them for you.\n\n>**Note**: Before you begin, you should install pydot by running `sudo apt-get install python-pydot`. Additionally, you should be running on a VM with at least 1GB of RAM allotted to it - less than that and you may run into issues with scikit-learn."
    },
    {
     "cell_type": "markdown",
     "metadata": {},
     "source": "### Introduction to Machine Learning\n\nMachine learning is a branch of artifical intelligence where we try to find hidden structure within data. \nFor example, lets say you are hired as a data scientist at a cool new music playing startup. You are given access to \nlogs from the product and are asked find out what kinds of music are played on your website and how you can promote songs that will be \npopular. In this case we wish to extract some structure from the raw data we have using machine learning.\n\nThere are two main kinds of machine learning algorithms:\n\n1. Unsupervised Learning - is the branch where we don't have any ground truth (or labeled data) that can help our training process. There are many approaches to unsupervised learning which includes topics like Clustering,  Mixture Models, Hidden Markov Models etc. In this assignment we will predominantly look at clustering.\n2. Supervised Learning - we have training data which is labeled (either manually or from historical data) and we try to make predictions about those labels on new, unlabeled, data. There are similarly several approaches to supervised learning - various classification and regression techniques all the way up to Support Vector Machines and Convolutional Neural Networks. In this assignment we'll explore two regression algorithms - Least Squares Linear Regression and Regression Trees. \n\nMany of the techniques you'll be using (like testing on a validation set) are of critical importance to the modeling process, regardless of the technique you're using, so keep these in mind in your future modeling efforts."
    },
    {
     "cell_type": "markdown",
     "metadata": {},
     "source": "### Application\n\nYour assignment is to use machine learning algorithms for two tasks on a real world music dataset from Last.fm. The goal in the first part is to cluster artists and try to discover all artists that belong a certain genre. In the second part, we'll use the same dataset and attempt to predict how popular a song will be based on a number of features of that song. One component will involve incorporating cluster information into the models."
    },
    {
     "cell_type": "markdown",
     "metadata": {},
     "source": "### Files\n\nData files for this assignment can be found at:\n\n`https://github.com/amplab/datascience-sp14/raw/master/hw2/hw2data.tar.gz`\n\nThe zip file includes the following files:\n\n* **artists-tags.txt**, User-defined tags for top artists\n* **userart-mat-training.csv**, Training data containing a matrix mapping artist-id to users who have played songs by the artists\n* **userart-mat-test.csv**, Test data containing a matrix mapping artist-id to users who have played songs by the artists\n* **train_model_data.csv**, Aggregate statsitstics and features about songs we'll use to train regression models.\n* **validation_model_data.csv**, Similar statistics computed on a hold-out set of users and songs that we'll use to validate our regression models.\n\nWe will explain the datasets and how they need to used in the assignment sections."
    },
    {
     "cell_type": "markdown",
     "metadata": {},
     "source": "### Deliverables\n\nComplete the all the exercises below and turn in a write up in the form of an IPython notebook, that is, **an .ipynb file**.\nThe write up should include your code, answers to exercise questions, and plots of results.\nComplete submission instructions will be posted on Piazza.\n\nWe recommend that you do your work in a **copy of this notebook**, in case there are changes that need to be made that are pushed out via github. In this notebook, we provide code templates for many of the exercises. They are intended to help with code re-use, since the exercises build on each other, and are highly recommended. Don't forget to include answers to questions that ask for natural language responses, i.e., in English, not code!"
    },
    {
     "cell_type": "markdown",
     "metadata": {},
     "source": "### Guidelines\n\n#### Code\n\nThis assignment can be done with basic python, matplotlib and scikit-learn.\nFeel free to use Pandas, too, which you may find well suited to several exercises.\nAs for other libraries, please check with course staff whether they're allowed.\n\nYou're not required to do your coding in IPython, so feel free to use your favorite editor or IDE.\nBut when you're done, remember to put your code into a notebook for your write up.\n\n#### Collaboration\n\nThis assignment is to be done individually.  Everyone should be getting a hands on experience in this course.  You are free to discuss course material with fellow students, and we encourage you to use Internet resources to aid your understanding, but the work you turn in, including all code and answers, must be your own work."
    },
    {
     "cell_type": "markdown",
     "metadata": {},
     "source": "## Part 0: Preliminaries\n\n### Exercise 0\n\nDownload the data and unzip it. \n\nRead in the file **artists-tags.txt** and store the contents in a DataFrame. The file format for this file is `artist-id|artist-name|tag|count`. The fields mean the following:\n\n1. artist-id : a unique id for an artist (Formatted as a [MusicBrainz Identifier](https://musicbrainz.org/doc/MusicBrainz_Identifier))\n2. artist-name: name of the artist\n3. tag: user-defined tag for the artist\n4. count: number of times the tag was applied\n\nSimilarly, read in the file **userart-mat-training.csv** . The file format for this file is `artist-id, user1, user2, .... user1000`. i.e. There are 846 such columns in this file and each column has a value 1 if the particular user played a song from this artist."
    },
    {
     "cell_type": "code",
     "collapsed": false,
     "input": "import pandas as pd\n\nDATA_PATH = (\"./data\") # Make this the /path/to/the/data\n\ndef parse_artists_tags(filename):\n    df = pd.read_csv(filename, sep=\"|\", names=[\"ArtistID\", \"ArtistName\", \"Tag\", \"Count\"])\n    return df\n\ndef parse_user_artists_matrix(filename):\n    df = pd.read_csv(filename)\n    return df\n\nartists_tags = parse_artists_tags(DATA_PATH + \"/artists-tags.txt\")\nuser_art_mat = parse_user_artists_matrix(DATA_PATH + \"/userart-mat-training.csv\")\n\nprint \"Number of tags %d\" % len(artists_tags) # Change this line. Should be 952803\nprint \"Number of artists %d\" % len(user_art_mat) # Change this line. Should be 17119",
     "language": "python",
     "metadata": {},
     "outputs": [
      {
       "output_type": "stream",
       "stream": "stdout",
       "text": "Number of tags 952810\nNumber of artists 17119\n"
      }
     ],
     "prompt_number": 4
    },
    {
     "cell_type": "markdown",
     "metadata": {},
     "source": "## Part 1: Finding genres by clustering\n\nThe first task we will look at is how to discover artist genres by only looking at data from plays on Last.fm. One of the ways to do this is to use clustering. To evaluate how well our clustering algorithm performs we will use the user-generated tags and compare those to our clustering results. \n\n### 1.1 Data pre-processing\n\nLast.fm allows users to associate tags with every artist (See the [top tags](http://www.last.fm/charts/toptags) for a live example). However as there are a number of tags associated with every artists, in the first step we will pre-process the data and get the most popular tag for an artist."
    },
    {
     "cell_type": "markdown",
     "metadata": {},
     "source": "#### Exercise 1\n\n**a**. For every artist in **artists_tags** calculate the most frequently used tag. "
    },
    {
     "cell_type": "code",
     "collapsed": false,
     "input": "# TODO Implement this. You can change the function arguments if necessary\n# Return a data structure that contains (artist id, artist name, top tag) for every artist\ndef calculate_top_tag(all_tags):\n    artistHighestTags = {}\n    artistIds = {}\n    artistHighestTagCounts = {}\n    artistNames = {}\n    for i in  range(len(artists_tags[\"ArtistID\"])):\n        artistId = artists_tags[\"ArtistID\"][i]\n        if artistId in artistIds:\n            if artistHighestTagCounts[artistId] < int(artists_tags[\"Count\"][i]):\n                artistHighestTags[artistId] = artists_tags[\"Tag\"][i]\n                artistHighestTagCounts[artistId] = int(artists_tags[\"Count\"][i])\n        else:\n            artistIds[artistId] = 1\n            artistHighestTags[artistId] = artists_tags[\"Tag\"][i]\n            artistNames[artistId] = artists_tags[\"ArtistName\"][i]\n            artistHighestTagCounts[artistId] = int(artists_tags[\"Count\"][i])\n    finalData = []\n    for key in artistIds:\n        finalData.append( {'ArtistID': key, 'ArtistName': artistNames[key],\n                'TopTag': artistHighestTags[key]})\n    df = pd.DataFrame(finalData)\n    df = df.set_index('ArtistID', drop=False)\n    return df\n\ntop_tags = calculate_top_tag(artists_tags)\n\n# Print the top tag for Nirvana\n# Artist ID for Nirvana is 5b11f4ce-a62d-471e-81fc-a69a8278c7da\n# Should be 'Grunge'\ntopTagData = calculate_top_tag(artists_tags)\ndataForNirvana = topTagData.loc['5b11f4ce-a62d-471e-81fc-a69a8278c7da']\nprint \"Top tag for Nirvana is %s\" % dataForNirvana['TopTag'] # Complete this line ",
     "language": "python",
     "metadata": {},
     "outputs": [
      {
       "output_type": "stream",
       "stream": "stdout",
       "text": "Top tag for Nirvana is Grunge\n"
      }
     ],
     "prompt_number": 5
    },
    {
     "cell_type": "markdown",
     "metadata": {},
     "source": "**b**. To do clustering we will be using `numpy` matrices. Create a matrix from **user_art_mat** with every row in the matrix representing a single artist. The matrix will have 846 columns, one for whether each user listened to the artist."
    },
    {
     "cell_type": "code",
     "collapsed": false,
     "input": "def create_user_matrix(input_data):\n    return input_data.values\n\nuser_np_matrix = create_user_matrix(user_art_mat)\n\nprint user_np_matrix.shape # Should be (17119, 846)",
     "language": "python",
     "metadata": {},
     "outputs": [
      {
       "output_type": "stream",
       "stream": "stdout",
       "text": "(17119, 847)\n"
      }
     ],
     "prompt_number": 6
    },
    {
     "cell_type": "markdown",
     "metadata": {},
     "source": "### 1.2 K-Means clustering\n\nHaving pre-processed the data we can now perform clustering on the dataset. In this assignment we will be using the python library \n[scikit-learn](http://scikit-learn.org/stable/index.html) for our machine learning algorithms. scikit-learn provides an extensive\nlibrary of machine learning algorithms that can be used for analysis. Here is a [nice flow chart](http://scikit-learn.org/stable/tutorial/machine_learning_map/index.html) that shows various algorithms implemented\nand when to use any of them. In this part of the assignment we will look at K-Means clustering\n\n> **Note on terminology**: \"samples\" and \"features\" are two words you will come across frequently when you look at machine learning papers or documentation. \"samples\" refer to data points that are used as inputs to the machine learning algorithm. For example in our dataset each artist is a \"sample\". \"features\" refers to some representation we have for every sample. For example the list of 1s and 0s we have for each artist are \"features\". Similarly the bag-of-words approach from the previous homework produced \"features\" for each document.\n\n#### K-Means algorithm\n\nClustering is the process of automatically grouping data points that are similar to each other. In the [K-Means algorithm](http://en.wikipedia.org/wiki/K-means_clustering) we start with `K` initially chosen cluster centers (or centroids). We then compute the distance of every point from the centroids and assign each point to the centroid. Next we update the centroids by averaging all the points in the cluster. Finally, we repeat the algorithm until the cluster centers are stable.\n\n### Running K-Means\n\n#### K-Means interface\nTake a minute to look at the scikit-learn interface for calling [KMeans](http://scikit-learn.org/stable/modules/generated/sklearn.cluster.KMeans.html). The constructor of the KMeans class returns a `estimator` on which you can call [fit](http://scikit-learn.org/stable/modules/generated/sklearn.cluster.KMeans.html#sklearn.cluster.KMeans.fit) to perform clustering.\n\n#### K-Means parameters\nFrom the above description we can see that there are a few parameters which control the K-Means algorithm. We will look at one parameter specifically, the number of clusters used in the algorithm. The number of clusters needs to be chosen based on domain knowledge of the data. As we do not know how many genres exist we will try different values and compare the results.\n\n#### Timing your code\nWe will also measure the performance of clustering algorithms in this section. You can time the code in a cell using the **%%time** [IPython magic](http://nbviewer.ipython.org/github/ipython/ipython/blob/1.x/examples/notebooks/Cell%20Magics.ipynb) as the first line in the cell. \n\n>**Note**: By default, the scikit-learn KMeans implementation runs the algorithm 10 times with different center initializations. For this assignment you can run it just once by passing the `n_init` argument as 1."
    },
    {
     "cell_type": "markdown",
     "metadata": {},
     "source": "#### Exercise 2\n\n**a**. Run K-means using *5* cluster centers on the `user_np_matrix`."
    },
    {
     "cell_type": "code",
     "collapsed": false,
     "input": "from sklearn.cluster import KMeans\nimport time\n\n# Run K-means using 5 cluster centers on user_np_matrix\nkmeans_5 = None\n\ndef create_user_matrix(input_data):\n\treturn input_data[[column for column in input_data.columns if (column != \"ArtistID\")]].values\n\nuser_np_matrix = create_user_matrix(user_art_mat)\n\nkmeans_5 = KMeans(init='k-means++', n_clusters=5, n_init=1)\nstart_time = time.time()\nkmeans_5.fit(user_np_matrix)\nprint (time.time() - start_time, \"seconds for kmeans_5\")",
     "language": "python",
     "metadata": {},
     "outputs": [
      {
       "output_type": "stream",
       "stream": "stdout",
       "text": "(13.979056119918823, 'seconds for kmeans_5')\n"
      }
     ],
     "prompt_number": 7
    },
    {
     "cell_type": "markdown",
     "metadata": {},
     "source": "**b**. Run K-means using *25* and *50* cluster centers on the `user_np_matrix`. Also measure the time taken for both cases."
    },
    {
     "cell_type": "code",
     "collapsed": false,
     "input": "kmeans_25 = None\nkmeans_25 = KMeans(init='k-means++', n_clusters=25, n_init=1)\nstart_time = time.time()\nkmeans_25.fit(user_np_matrix)\nprint (time.time() - start_time, \"seconds for kmeans_25\")",
     "language": "python",
     "metadata": {},
     "outputs": [
      {
       "output_type": "stream",
       "stream": "stdout",
       "text": "(103.86532282829285, 'seconds for kmeans_25')\n"
      }
     ],
     "prompt_number": 8
    },
    {
     "cell_type": "code",
     "collapsed": false,
     "input": "kmeans_50 = None\n\nkmeans_50 = KMeans(init='k-means++', n_clusters=50, n_init=1)\nstart_time = time.time()\nkmeans_50.fit(user_np_matrix)\nprint (time.time() - start_time, \"seconds for kmeans_50\")",
     "language": "python",
     "metadata": {},
     "outputs": [
      {
       "output_type": "stream",
       "stream": "stdout",
       "text": "(129.15299797058105, 'seconds for kmeans_50')\n"
      }
     ],
     "prompt_number": 9
    },
    {
     "cell_type": "markdown",
     "metadata": {},
     "source": "**d**. Of the three algorithms, which setting took the longest to run ? Why do you think this is the case ?"
    },
    {
     "cell_type": "markdown",
     "metadata": {},
     "source": "KMeans_50 took the longest to run at 104.58633804321289. I think it took the longest because it hard larger clusters.\n"
    },
    {
     "cell_type": "markdown",
     "metadata": {},
     "source": "### 1.3 Evaluating K-Means\n\nIn addition to the performance comparisons we also wish to compare how good our clusters are. To do this we are first going to look at internal evaluation metrics. For internal evaluation we only use the input data and the clusters created and try to measure the quality of clusters created. We are going to use two metrics for this:\n\n#### Inertia\nInertia is a metric that is used to estimate how close the data points in a cluster are. This is calculated as the sum of squared distance for each point to it's closest centroid, i.e., its assigned cluster center. The intution behind inertia is that clusters with lower inertia are better as it means closely related points form a cluster.Inertia is calculated by scikit-learn by default.\n"
    },
    {
     "cell_type": "markdown",
     "metadata": {},
     "source": "**Exercise 3**"
    },
    {
     "cell_type": "markdown",
     "metadata": {},
     "source": "**a**. Print inertia for all the kmeans model computed above."
    },
    {
     "cell_type": "code",
     "collapsed": false,
     "input": "from sklearn import metrics\nfrom sklearn.cluster import KMeans\nfrom sklearn.metrics import silhouette_score\n\nkmeans_5 = KMeans(init='k-means++', n_clusters=5, n_init=1)\nkmeans_5.fit(user_np_matrix)\nprint \"Inertia for KMeans with 5 clusters = %lf \" % kmeans_5.inertia_\n\nkmeans_25 = KMeans(init='k-means++', n_clusters=25, n_init=1)\nkmeans_25.fit(user_np_matrix)\nprint \"Inertia for KMeans with 25 clusters = %lf \" % kmeans_25.inertia_\n\nkmeans_50 = KMeans(init='k-means++', n_clusters=50, n_init=1)\nkmeans_50.fit(user_np_matrix)\nprint \"Inertia for KMeans with 50 clusters = %lf \" % kmeans_50.inertia_\n",
     "language": "python",
     "metadata": {},
     "outputs": [
      {
       "output_type": "stream",
       "stream": "stdout",
       "text": "Inertia for KMeans with 5 clusters = 350728.130054 \nInertia for KMeans with 25 clusters = 321210.373061 "
      },
      {
       "output_type": "stream",
       "stream": "stdout",
       "text": "\nInertia for KMeans with 50 clusters = 310258.097465 "
      },
      {
       "output_type": "stream",
       "stream": "stdout",
       "text": "\n"
      }
     ],
     "prompt_number": 10
    },
    {
     "cell_type": "markdown",
     "metadata": {},
     "source": "**b**. Does KMeans run with 25 clusters have lower or greater inertia than the ones with 5 clusters ? Which algorithm is better and why ?"
    },
    {
     "cell_type": "markdown",
     "metadata": {},
     "source": "KMeans with 25 clusters has a lower inertia then 5 clusters. KMeans_50 had the best, since it runs the fastest."
    },
    {
     "cell_type": "markdown",
     "metadata": {},
     "source": "#### Silhouette Score: \nThe silhouette score measures how close various clusters created are. A higher silhouette score is better as it means that we dont have too many overlapping clusters. The silhouette score can be computed using [sklearn.metrics.silhouette_score](http://scikit-learn.org/stable/modules/generated/sklearn.metrics.silhouette_score.html#sklearn.metrics.silhouette_score) from scikit learn."
    },
    {
     "cell_type": "markdown",
     "metadata": {},
     "source": "**c.** Calculate the Silhouette Score using 500 sample points for all the kmeans models."
    },
    {
     "cell_type": "code",
     "collapsed": false,
     "input": "from sklearn.metrics import silhouette_score\n\n# NOTE: Use 500 sample points to calculate the silhouette score\ndef get_silhouette_score(data, model):\n    return metrics.silhouette_score(data, labels = model.labels_, metric='euclidean', sample_size=500)\n\nprint \"Silhouette Score for KMeans with 5 clusters = %lf\" % get_silhouette_score(user_np_matrix, kmeans_5)\nprint \"Silhouette Score for KMeans with 25 clusters = %lf \" % get_silhouette_score(user_np_matrix, kmeans_25)\nprint \"Silhouette Score for KMeans with 50 clusters = %lf \" % get_silhouette_score(user_np_matrix, kmeans_50)",
     "language": "python",
     "metadata": {},
     "outputs": [
      {
       "output_type": "stream",
       "stream": "stdout",
       "text": "Silhouette Score for KMeans with 5 clusters = 0.282087\nSilhouette Score for KMeans with 25 clusters = 0.058844 "
      },
      {
       "output_type": "stream",
       "stream": "stdout",
       "text": "\nSilhouette Score for KMeans with 50 clusters = 0.021263 "
      },
      {
       "output_type": "stream",
       "stream": "stdout",
       "text": "\n"
      },
      {
       "output_type": "stream",
       "stream": "stderr",
       "text": "/usr/local/lib/python2.7/dist-packages/numpy/core/_methods.py:55: RuntimeWarning: Mean of empty slice.\n  warnings.warn(\"Mean of empty slice.\", RuntimeWarning)\n"
      }
     ],
     "prompt_number": 11
    },
    {
     "cell_type": "markdown",
     "metadata": {},
     "source": "**d**. How does increasing the number of clusters affect the silhouette score ?"
    },
    {
     "cell_type": "markdown",
     "metadata": {},
     "source": "The Silhouette score decreased, as the number of clusters increased. "
    },
    {
     "cell_type": "markdown",
     "metadata": {},
     "source": "### 1.4 External Evaluation\nWhile internal evaluation is useful, a better method for measuring clustering quality is to do external evaluation. This might not be possible always as we may not have ground truth data available. In our application we will use `top_tags` from before as our ground truth data for external evaluation. We will first compute purity and accuracy and finally we will predict tags for our **test** dataset.\n\n#### Exercise 4\n\n**a**. As a first step we will need to **join** the `artist_tags` data with the set of labels generated by K-Means model. That is, for every artist we will now have the top tag, cluster id and artist name in a data structure."
    },
    {
     "cell_type": "code",
     "collapsed": false,
     "input": "# Return a data structure that contains artist_id, artist_name, top tag, cluster_label for every artist\nfrom sklearn.cluster import KMeans\n\ndef join_tags_labels(artists_data, user_data, kmeans_model):\n    finalData = []\n    i = -1\n    for artistId in user_data[\"ArtistID\"]:\n        i += 1\n        if (artistId not in artists_data.index):\n            continue\n        artistData = artists_data.loc[artistId]\n        label = kmeans_model.labels_[i]\n        finalData.append({\n            'ArtistID': artistId,\n            'ArtistName': artistData[\"ArtistName\"],\n            'TopTag': artistData[\"TopTag\"],\n            'cluster_label': label\n        })\n    df = pd.DataFrame(finalData)\n    return df.set_index('ArtistID')\n\n# Run the function for all the models\nkmeans_5_joined = None\nkmeans_25_joined = None\nkmeans_50_joined = None\n\nkmeans_5 = KMeans(init='k-means++', n_clusters=5, n_init=1)\nkmeans_5.fit(user_np_matrix)\nkmeans_5_joined =  join_tags_labels(kmeans_5)\n\nkmeans_25 = KMeans(init='k-means++', n_clusters=25, n_init=1)\nkmeans_25.fit(user_np_matrix)\nkmeans_25_joined =  join_tags_labels(kmeans_25)\n\nkmeans_50 = KMeans(init='k-means++', n_clusters=50, n_init=1)\nkmeans_50.fit(user_np_matrix)\nkmeans_50_joined =  join_tags_labels(kmeans_50)\n\n\n",
     "language": "python",
     "metadata": {},
     "outputs": [],
     "prompt_number": 35
    },
    {
     "cell_type": "markdown",
     "metadata": {},
     "source": "**b**. Next we need to generate a genre for every cluster id we have (the cluster ids are from 0 to N-1). You can do this by **grouping** the data from the previous exercise on cluster id. \n\nOne thing you might notice is that we typically get a bunch of different tags associated with every cluster. How do we pick one genre or tag from this ? To cover various tags that are part of the cluster, we will pick the **top 5** tags in each cluster and save the list of top-5 tags as the genre for the cluster.\n"
    },
    {
     "cell_type": "code",
     "collapsed": false,
     "input": "# Return a data structure that contains cluster_id, list of top 5 tags for every cluster\ndef assign_cluster_tags(joined_data):\n    result = []\n    for cluster_label, clusterData in joined_data.groupby(\"cluster_label\"):\n        top_tags = {}\n        for artistId, artistData in clusterData.iterrows():\n            tag = artistData[\"TopTag\"]\n            tag_count = artistData[\"TopTagCount\"]\n            if (not tag in top_tags):\n                top_tags[tag] = 0\n            top_tags[tag] += tag_count\n        top_tags = top_tags.items()\n        top_tags.sort(key = lambda x: x[1], reverse = True)\n        top_tags = [tag for (tag, tag_count) in top_tags]\n        result.append({\n            \"cluster_label\": cluster_label,\n            \"top_tags\": top_tags[:5]\n        })\n\n    return pd.DataFrame(result).set_index(\"cluster_label\")\n    \n\n    \nkmeans_5_genres = None\nkmeans_25_genres = None\nkmeans_50_genres = None\n\nkmeans_5_genres = assign_cluster_tags(kmeans_5_joined)\nkmeans_25_genres = assign_cluster_tags(kmeans_25_joined)\nkmeans_50_genres = assign_cluster_tags(kmeans_50_joined)",
     "language": "python",
     "metadata": {},
     "outputs": [],
     "prompt_number": 36
    },
    {
     "cell_type": "markdown",
     "metadata": {},
     "source": "#### Purity and Accuracy\nTwo commonly used metrics used for evaluating clustering using external labels are purity and accuracy. **Purity** measures the frequency of data belonging to the same cluster sharing the same class label i.e. if we have a number of items in a cluster how many of those items have the same label ? Meanwhile, **accuracy** measures the frequency of data from the same class appearing in a single cluster i.e. of all the items which have a particular label what fraction appear in the same cluster ?\n\n>NOTE: This is similar to precision and recall that we looked at in the previous assignment. Purity here makes sure that our clusters have mostly homogeneous labels while accuracy make sure that our labels are not spread out over too many clusters."
    },
    {
     "cell_type": "markdown",
     "metadata": {},
     "source": "**d**. Compute the purity for each of our K-Means models. To do this find the top tags of all artists that belong to a cluster. Check what fraction of these tags are covered by the top 5 tags of the cluster. Average this value across all clusters. **HINT**: We used similar ideas to get the top 5 tags in a cluster. "
    },
    {
     "cell_type": "code",
     "collapsed": false,
     "input": "def get_cluster_purity(joined_data):\n    pass\n    \nprint \"Purity for KMeans with 5 centers %lf \" % 0.0\nprint \"Purity for KMeans with 25 centers %lf \" % 0.0\nprint \"Purity for KMeans with 50 centers %lf \" % 0.0",
     "language": "python",
     "metadata": {},
     "outputs": []
    },
    {
     "cell_type": "markdown",
     "metadata": {},
     "source": "**e**. To compute the accuracy first get all the unique tags from *top_tags*. Then for each tag, compute how many artists are found in the largest cluster. We denote these as correct cluster assignments. For example, lets take a tag 'rock'. If there are 100 artists with tag 'rock' and say 90 of them are in one cluster while 10 of them are in another. Then we have 90 correct cluster assignments\n\nAdd the number of correct cluster assignments for all tags and divide this by the total size of the training data to get the accuracy for a model."
    },
    {
     "cell_type": "code",
     "collapsed": false,
     "input": "def get_accuracy(joined_data):\n    m = re.search('(?<=Accuracy on test set: )([0-9]+(\\.[0-9]*)?)', joined_data)\n    if m:\n        return float(m.group(0))\n    raise Exception('No accuracy found in output')\n    \nprint \"Accuracy of KMeans with 5 centers %lf \" % get_accuracy(joined_data, kmeans_5)\nprint \"Accuracy of KMeans with 25 centers %lf \" % get_accuracy(joined_data, kmeans_5)\nprint \"Accuracy of KMeans with 50 centers %lf \" % get_accuracy(joined_data, kmeans_5)",
     "language": "python",
     "metadata": {},
     "outputs": [
      {
       "output_type": "stream",
       "stream": "stdout",
       "text": "Accuracy of KMeans with 5 centers 0.000000 \nAccuracy of KMeans with 25 centers 0.000000 \nAccuracy of KMeans with 50 centers 0.000000 \n"
      }
     ],
     "prompt_number": 14
    },
    {
     "cell_type": "markdown",
     "metadata": {},
     "source": "**f.** What do the numbers tell you about the models? Do you have a favorite?"
    },
    {
     "cell_type": "markdown",
     "metadata": {},
     "source": "That the numbers are increasing the larger the clusters we have. I prefer assign_cluster_tags model. "
    },
    {
     "cell_type": "markdown",
     "metadata": {},
     "source": "### 1.5 Evaluating Test Data\nFinally we can treat the clustering model as a multi-class classifier and make predictions on external test data. To do this we load the test data file **userart-mat-test.csv** and for every artist in the file we use the K-Means model to predict a cluster. We mark our prediction as successful if the artist's top tag belongs to one of the five tags for the cluster. \n\n#### Exercise 5"
    },
    {
     "cell_type": "markdown",
     "metadata": {},
     "source": "**a** Load the testdata file and create a NumPy matrix named user_np_matrix_test."
    },
    {
     "cell_type": "code",
     "collapsed": false,
     "input": "user_art_mat_test = parse_user_artists_matrix(DATA_PATH + \"/userart-mat-test.csv\")\n# NOTE: the astype(float) converts integer to floats here\nuser_np_matrix_test = create_user_matrix(user_art_mat_test).astype(float)\n\nuser_np_matrix_test.shape # Should be (1902, 846)",
     "language": "python",
     "metadata": {},
     "outputs": [
      {
       "metadata": {},
       "output_type": "pyout",
       "prompt_number": 33,
       "text": "(1902, 846)"
      }
     ],
     "prompt_number": 33
    },
    {
     "cell_type": "markdown",
     "metadata": {},
     "source": "**b.** For each artist in the test set, call **[predict](http://scikit-learn.org/stable/modules/generated/sklearn.cluster.KMeans.html#sklearn.cluster.KMeans.predict)** to get the predicted cluster. Join the predicted labels with test artist ids. Return 'artist_id', 'predicted_label' for every artist in the test dataset."
    },
    {
     "cell_type": "code",
     "collapsed": false,
     "input": "# For every artist return a list of labels\ndef predict_cluster(test_data, test_np_matrix, kmeans_model):\n    idx,_ = vq(x,test_data)\n    prediction = array([test_data, test_np_matrix])\n    diff = abs(test_data[0] - prediction)\n    best = diff[0] + diff[1]\n    for i in range(len(centroids)):\n        diff = abs(test_data[i] - prediction)\n        diffs = diffarr[0] + diffarr[1]\n        if diffs < best:\n            best = diffs\n            x = test_data[i]\n    return x\n\n# Call the function for every model from before\nkmeans_5_predicted = None\nkmeans_25_predicted = None\nkmeans_50_predicted = None\n\nkmeans_5_predicted =  predict_cluster(test_data, user_np_matrix_test, kmeans_5)\nkmeans_25_predicted =  predict_cluster(test_data, user_np_matrix_test, kmeans_25)\nkmeans_50_predicted =  predict_cluster(test_data, user_np_matrix_test, kmeans_50)",
     "language": "python",
     "metadata": {},
     "outputs": [],
     "prompt_number": 34
    },
    {
     "cell_type": "markdown",
     "metadata": {},
     "source": "**c**. Get the tags for the predicted genre and the tag for the artist from `top_tags`. Output the percentage of artists for whom the top tag is one of the five that describe its cluster. This is the *recall* of our model.\n>NOTE: Since the tag data is not from the same source as user plays, there are artists in the test set for whom we do not have top tags. You should exclude these artists while making predictions and while computing the recall."
    },
    {
     "cell_type": "code",
     "collapsed": false,
     "input": "# Calculate recall for our predictions\ndef verify_predictions(predicted_artist_labels, cluster_genres, top_tag_data):\n    pass",
     "language": "python",
     "metadata": {},
     "outputs": []
    },
    {
     "cell_type": "markdown",
     "metadata": {},
     "source": "**d**. Print the recall for each KMeans model. We define recall as num_correct_predictions / num_artists_in_test_data"
    },
    {
     "cell_type": "code",
     "collapsed": false,
     "input": "# Use verify_predictions for every model\nprint \"Recall of KMeans with 5 centers %lf \" % verify_predictions(predicted_artist_labels,top_tag_data, kmeans_5)\nprint \"Recall of KMeans with 25 centers %lf \" %  verify_predictions(predicted_artist_labels,top_tag_data, kmeans_25)\nprint \"Recall of KMeans with 50 centers %lf \" %  verify_predictions(predicted_artist_labels,top_tag_data, kmeans_50)",
     "language": "python",
     "metadata": {},
     "outputs": [],
     "prompt_number": 25
    },
    {
     "cell_type": "markdown",
     "metadata": {},
     "source": "### 1.5 Visualizing Clusters using PCA\n\nAnother way to evaluate clustering is to visualize the output of clustering. However the data we are working with is in 846 dimensions !, so it is hard to visualize or plot this. Thus the first step for visualization is to reduce the dimensionality of the data. To do this we can use [Prinicipal Component Analysis (PCA)](http://en.wikipedia.org/wiki/Principal_component_analysis). PCA reduces the dimension of data and keeps only the most significant components of it. This is a commonly used technique to visualize data from high dimensional spaces.\n\n>**NOTE**: We use [RandomizedPCA](http://scikit-learn.org/stable/modules/decomposition.html#approximate-pca), an approximate version of the algorithm as this has lower memory requirements. The approximate version is good enough when we are reducing to a few dimensions (2 in this case). We also sample the input data before PCA to further reduce memory requirements.\n\n#### Exercise 6\n\n**a**. Calcluate the RandomizedPCA of the sampled training data set `sampled_data` and reduce it to 2 components. Use the [fit_transform](http://scikit-learn.org/stable/modules/generated/sklearn.decomposition.RandomizedPCA.html#sklearn.decomposition.RandomizedPCA.fit_transform) method to do this."
    },
    {
     "cell_type": "code",
     "collapsed": false,
     "input": "from sklearn.decomposition import RandomizedPCA\nimport numpy as np\n\nsample_percent = 0.20\nrows_to_sample = int(np.ceil(sample_percent * user_np_matrix.shape[0]))\nsampled_data = user_np_matrix[np.random.choice(user_np_matrix.shape[0], rows_to_sample, replace=False),:]\n\n# Return the data reduced to 2 principal components\ndef get_reduced_data(input_data):\n    return get_reduced_data.fit_transform(data)\n\nuser_np_2d = get_reduced_data(sampled_data)",
     "language": "python",
     "metadata": {},
     "outputs": [],
     "prompt_number": 33
    },
    {
     "cell_type": "markdown",
     "metadata": {},
     "source": "**b**. Fit the reduced data with the KMeans model with 5 cluster centers. Plot the cluster centers and all the points. Make sure to color points in every cluster differently to see a visual separation. You may find [`scatter`](http://matplotlib.org/api/pyplot_api.html#matplotlib.pyplot.scatter) and [`plot`](http://matplotlib.org/api/pyplot_api.html#matplotlib.pyplot.plot) functions from matplotlib to be useful.\n"
    },
    {
     "cell_type": "code",
     "collapsed": false,
     "input": "# TODO: Write code to fit and plot reduced_data.\nimport pylab as pl\n%pylab inline\n\nuser_np_2d.plot(kind='bar')",
     "language": "python",
     "metadata": {},
     "outputs": [
      {
       "output_type": "stream",
       "stream": "stdout",
       "text": "Populating the interactive namespace from numpy and matplotlib\n"
      }
     ],
     "prompt_number": 30
    },
    {
     "cell_type": "markdown",
     "metadata": {},
     "source": "# Part 2 - Regression Models - Predicting Song Popularity\n\nIn this section of the assignment you'll be building a model to predict the number of plays a song will get. Again, we're going to be using scikit-learn to train and evaluate regression models, and pandas to pre-process the data.\n\nIn the process, you'll encounter some modeling challenges and we'll look at how to deal with them.\n\nWe've started with the same data as above, but this time we've pre-computed a number of song statistics for you.\n\nThese are:\n\n1. plays - the number of times a song has been played.\n1. pctmale - percentage of the plays that came from users who self-identified as \"male\".\n1. age - average age of the listener.\n1. country1 - the country of the users that listened to this song most.\n1. country2 - the country of the users that listened to this song second most.\n1. country3 - the country of the users that listened to this song third most.\n1. pctgt1 - Percentage of plays that come from a user who's played the song more than once.\n1. pctgt2 - Percentage of plays that come from a user who's played the song more than twice.\n1. pctgt5 - Percentage of plays that come from a user who's played the song more than five times.\n1. cluster - The \"cluster number\" of the artist associated with this song - similar to what you came up with above. We chose 25 clusters fairly arbitrarily.\n\n### 2.1 Data Exploration\n#### Exercise 7\n\n**a**. Let's start by loading up the data - we've provided a \"training set\" and a \"validation set\" for you to test your models on. The training set are the examples that we use to create our models, while the validation set is a dataset we \"hold out\" from the model fitting process, we use these examples to test whether our models accurately predict new data.\n"
    },
    {
     "cell_type": "code",
     "collapsed": false,
     "input": "%pylab inline\nimport pandas as pd\nDATA_PATH = (\"./data\") # Make this the /path/to/the/data\n\ntrain = pd.read_csv(DATA_PATH + \"/train_model_data.csv\")\nvalidation = pd.read_csv(DATA_PATH + \"/validation_model_data.csv\")",
     "language": "python",
     "metadata": {},
     "outputs": [
      {
       "output_type": "stream",
       "stream": "stdout",
       "text": "Populating the interactive namespace from numpy and matplotlib\n"
      }
     ],
     "prompt_number": 16
    },
    {
     "cell_type": "markdown",
     "metadata": {},
     "source": "Now that you've got the data loaded, play around with it, generate some descriptive statistics, and get a feel for what's in the data set. For the categorical variables try pandas \".count_values()\" on them to get a sense of the most likely distributions (countries, etc.). \n\n**b**. In the next cell put some commands you ran to get a feel for the data."
    },
    {
     "cell_type": "code",
     "collapsed": false,
     "input": "# TODO: Your commands for data exploration here.\nprint train.shape\ntrain.head()\n\nprint validation.shape\nvalidation.head()",
     "language": "python",
     "metadata": {},
     "outputs": [
      {
       "output_type": "stream",
       "stream": "stdout",
       "text": "(108537, 13)\n(25573, 13)\n"
      },
      {
       "html": "<div style=\"max-height:1000px;max-width:1500px;overflow:auto;\">\n<table border=\"1\" class=\"dataframe\">\n  <thead>\n    <tr style=\"text-align: right;\">\n      <th></th>\n      <th>artid</th>\n      <th>key</th>\n      <th>plays</th>\n      <th>pctmale</th>\n      <th>age</th>\n      <th>country1</th>\n      <th>country2</th>\n      <th>country3</th>\n      <th>pctgt1</th>\n      <th>pctgt2</th>\n      <th>pctgt5</th>\n      <th>account_age</th>\n      <th>cluster</th>\n    </tr>\n  </thead>\n  <tbody>\n    <tr>\n      <th>0</th>\n      <td> 0004537a-4b12-43eb-a023-04009e738d2e</td>\n      <td> 0004537a-4b12-43eb-a023-04009e738d2e 5c9d317f-...</td>\n      <td> 40</td>\n      <td> 0.675000</td>\n      <td> 31.0</td>\n      <td> United Kingdom</td>\n      <td>       Estonia</td>\n      <td> United States</td>\n      <td> 0.583333</td>\n      <td> 0.333333</td>\n      <td> 0.25</td>\n      <td> 954.125000</td>\n      <td>  5</td>\n    </tr>\n    <tr>\n      <th>1</th>\n      <td> 000d90ec-d64c-48a1-b775-e726fd240e9f</td>\n      <td> 000d90ec-d64c-48a1-b775-e726fd240e9f 09d9e9a6-...</td>\n      <td> 53</td>\n      <td> 0.735849</td>\n      <td> 20.6</td>\n      <td> United Kingdom</td>\n      <td> United States</td>\n      <td>       Belgium</td>\n      <td> 0.600000</td>\n      <td> 0.600000</td>\n      <td> 0.60</td>\n      <td> 625.113208</td>\n      <td> 11</td>\n    </tr>\n    <tr>\n      <th>2</th>\n      <td> 000d90ec-d64c-48a1-b775-e726fd240e9f</td>\n      <td> 000d90ec-d64c-48a1-b775-e726fd240e9f 40064f18-...</td>\n      <td> 45</td>\n      <td> 0.622222</td>\n      <td> 21.0</td>\n      <td> United Kingdom</td>\n      <td> United States</td>\n      <td>           NaN</td>\n      <td> 0.600000</td>\n      <td> 0.600000</td>\n      <td> 0.60</td>\n      <td> 552.933333</td>\n      <td> 11</td>\n    </tr>\n    <tr>\n      <th>3</th>\n      <td> 000d90ec-d64c-48a1-b775-e726fd240e9f</td>\n      <td> 000d90ec-d64c-48a1-b775-e726fd240e9f 31bb65fd-...</td>\n      <td> 40</td>\n      <td> 0.600000</td>\n      <td> 20.0</td>\n      <td> United Kingdom</td>\n      <td> United States</td>\n      <td>           NaN</td>\n      <td> 0.600000</td>\n      <td> 0.400000</td>\n      <td> 0.40</td>\n      <td> 482.325000</td>\n      <td> 11</td>\n    </tr>\n    <tr>\n      <th>4</th>\n      <td> 000d90ec-d64c-48a1-b775-e726fd240e9f</td>\n      <td> 000d90ec-d64c-48a1-b775-e726fd240e9f bbb0815e-...</td>\n      <td> 56</td>\n      <td> 0.714286</td>\n      <td> 20.0</td>\n      <td> United Kingdom</td>\n      <td> United States</td>\n      <td>           NaN</td>\n      <td> 0.600000</td>\n      <td> 0.400000</td>\n      <td> 0.40</td>\n      <td> 449.678571</td>\n      <td> 11</td>\n    </tr>\n  </tbody>\n</table>\n<p>5 rows \u00d7 13 columns</p>\n</div>",
       "metadata": {},
       "output_type": "pyout",
       "prompt_number": 17,
       "text": "                                  artid  \\\n0  0004537a-4b12-43eb-a023-04009e738d2e   \n1  000d90ec-d64c-48a1-b775-e726fd240e9f   \n2  000d90ec-d64c-48a1-b775-e726fd240e9f   \n3  000d90ec-d64c-48a1-b775-e726fd240e9f   \n4  000d90ec-d64c-48a1-b775-e726fd240e9f   \n\n                                                 key  plays   pctmale   age  \\\n0  0004537a-4b12-43eb-a023-04009e738d2e 5c9d317f-...     40  0.675000  31.0   \n1  000d90ec-d64c-48a1-b775-e726fd240e9f 09d9e9a6-...     53  0.735849  20.6   \n2  000d90ec-d64c-48a1-b775-e726fd240e9f 40064f18-...     45  0.622222  21.0   \n3  000d90ec-d64c-48a1-b775-e726fd240e9f 31bb65fd-...     40  0.600000  20.0   \n4  000d90ec-d64c-48a1-b775-e726fd240e9f bbb0815e-...     56  0.714286  20.0   \n\n         country1       country2       country3    pctgt1    pctgt2  pctgt5  \\\n0  United Kingdom        Estonia  United States  0.583333  0.333333    0.25   \n1  United Kingdom  United States        Belgium  0.600000  0.600000    0.60   \n2  United Kingdom  United States            NaN  0.600000  0.600000    0.60   \n3  United Kingdom  United States            NaN  0.600000  0.400000    0.40   \n4  United Kingdom  United States            NaN  0.600000  0.400000    0.40   \n\n   account_age  cluster  \n0   954.125000        5  \n1   625.113208       11  \n2   552.933333       11  \n3   482.325000       11  \n4   449.678571       11  \n\n[5 rows x 13 columns]"
      }
     ],
     "prompt_number": 17
    },
    {
     "cell_type": "markdown",
     "metadata": {},
     "source": "**c**. Next, create a pairwise scatter plot of the columns: plays, pctmale, age, pctgt1, pctgt2, pctgt5. (_Hint: we did this in lab!_)\n\nDo you notice anything about the data in this view? What about the relationship between plays and other columns?"
    },
    {
     "cell_type": "code",
     "collapsed": false,
     "input": "# TODO: Your commands to generate a scatter plot here.\nplt.scatter(train.plays, train.pctmale, train.age, train.pctgt1, train.pctgt2, train.pctgt5)",
     "language": "python",
     "metadata": {},
     "outputs": [
      {
       "metadata": {},
       "output_type": "pyout",
       "prompt_number": 19,
       "text": "<matplotlib.collections.PathCollection at 0xde31a8c>"
      },
      {
       "metadata": {},
       "output_type": "display_data",
       "png": "[encoded data removed]",
       "text": "<matplotlib.figure.Figure at 0x1077a22c>"
      }
     ],
     "prompt_number": 19
    },
    {
     "cell_type": "markdown",
     "metadata": {},
     "source": "The data seems to be clusters towards the left, and then as it moves right increasing it begins to become more scattered. "
    },
    {
     "cell_type": "markdown",
     "metadata": {},
     "source": "###2.2 Data Prep and Intro to Linear Regression\n\n*scikit-learn* does a number of things very well, but one of the things it doesn't handle easily is categorical or missing data. Categorical data is data that can take on a finite set of values, e.g. a categorical variable might be the color of a stop light (Red, Yellow, Green), this is in contrast with continuous variables like real numbers in the range -Infinity to +Infinity. There is another common type of data called \"ordinal\" that can be thought of as categorical data that has a natural ordering, like: Cold, Warm, Hot. We won't be dealing with this kind of data here, but having that kind of ranking opens up the use of certain other statistical methods.\n\n\n#### Exercise 8\n\n**a**. For the first part of the exercise, let's eliminate categorical variables, and *impute* missing values with pandas. Write a function to drop all categorical variables from the data set, and return two pandas data frames:\n\n1. A data frame with all categorical items and a user-specified response column removed.\n2. A data frame that contains only the response column."
    },
    {
     "cell_type": "code",
     "collapsed": false,
     "input": "def basic_prep(data, col):\n    #TODO - make a copy of the original dataset but with the categorical variables removed! *Cluster* should be thought of as a \n    #categorical variable and should be removed! Make use of pandas \".drop\" function.\n    \n    #TODO - impute missing values with the mean of those columns, use pandas \".fillna\" function to accomplish this.\n    \n    pass\n\n#This will create two new data frames, one that contains training data - in this case all the numeric columns,\n#and one that contains response data - in this case, the \"plays\" column.\ntrain_basic_features, train_basic_response = basic_prep(train, 'plays')\nvalidation_basic_features, validation_basic_response = basic_prep(validation, 'plays')",
     "language": "python",
     "metadata": {},
     "outputs": []
    },
    {
     "cell_type": "markdown",
     "metadata": {},
     "source": "Now, we're going to train a linear regression model. This is likely the most widely used model for fitting data out there today - you've probably seen it before, maybe even used it in Excel. The goal of linear modeling, is to fit a **linear equation** that maps a set of **input features** to a numerical **response**. This equation is called a **model**, and can be used to make predictions about the response of similar input features. For example, imagine we have a dataset of electricity prices ($p$) and outdoor temperature ($t$), and we want to predict, given temperature, what electricity price will be. A simple way to model this is with an equation that looks something like $p = basePrice + factor*t$. When we **fit** a model, we are estimating the parameters ($basePrice$ and $factor$) that best fit our data. This is a very simple linear model, but you can easily imagine extending this to situations where you need to estimate several parameters.\n\n>**Note**: It is possible to fill a semester with linear models (and classes in other departments do!), and there are innumerable issues to be aware of when you fit linear models, so this is just the tip of the iceberg - don't dismiss linear models outright based on your experiences here!\n\nA linear model models the data as a **linear combination** of the model and its weights. Typically, the model is written with something like the following form: $y = X\\theta + \\epsilon$, and when we fit the model, we are trying to find the value of $\\theta$ that minimizes the **loss** of the model. In the case of regression models, the loss is often represented as $\\sum (y - X\\theta)^2$ - or the squared distance between the prediction and the actual value.\n\nIn the code below, `X` refers to the the training features, `y` refers to the training response, `Xv` refers to the validation features and yv refers to the validation response. Note that `X` is a matrix (or a `DataFrame`) with the shape $n \\times d$ where $n$ is the number of examples and $d$ is the number of features in each example, while `y` is a vector of length $n$ (one response per example).\n\nOur goal with this assignment is to accurately estimate the number of plays a song will get based on the features we know about it.\n\nThe score we'll be judging the models on is called $R^2$, which is a measure of how well the model fits the data. It can be thought of roughly as the percentage of the variance that the model explains. \n\n#### Exercise 9\n\n**a.** Fit a `LinearRegression` model with scikit-learn and return the model score on both the training data and the validation data."
    },
    {
     "cell_type": "code",
     "collapsed": false,
     "input": "from sklearn import linear_model\n\ndef fit_model(X, y):\n    #TODO - Write a function that fits a linear model to a dataset given a column of values to predict.\n    pass\n\ndef score_model(model, X, y, Xv, yv):\n    #TODO - Write a function that returns scores of a model given its training \n    #features and response and validation features and response. \n    #The output should be a tuple of two model scores.\n    pass\n\ndef fit_model_and_score(data, response, validation, val_response):\n    #TODO - Given a training dataset, a validation dataset, and the name of a column to predict, \n    #Using the model's \".score()\" method, return the model score on the training data *and* the validation data\n    #as a tuple of two doubles.\n    pass\n    #END TODO\n\nprint fit_model_and_score(train_basic_features, train_basic_response, validation_basic_features, validation_basic_response)\n\nmodel = fit_model(train_basic_features, train_basic_response)\n",
     "language": "python",
     "metadata": {},
     "outputs": []
    },
    {
     "cell_type": "markdown",
     "metadata": {},
     "source": "We realize that this may be your first experience with linear models - but that's a pretty low $R^2$ - we're looking for scores significantly higher than 0, and the maximum is a 1. \n\nSo what happened? Well, we've modeled a **linear** response to our input features, but the variable we're modeling (plays) clearly has a non-linear relationship with respect to the input features. It roughly follows a **power-law** distribution, and so modeling it in linear space yields a model with estimates that are way off.\n\nWe can verify this by looking at a plot of the model's residuals - that is, the difference between the training responses and the predictions. A good model would have residuals with two properties:\n\n1. Small in absolute value. \n1. Evenly distributed about the true values.\n\n**b.** Write a function to calculate the residuals of the model, and plot those with a histogram.\n"
    },
    {
     "cell_type": "code",
     "collapsed": false,
     "input": "def residuals(features, y, model):\n    #TODO - Write a function that calculates model residuals given input features, ground truth, and the model.\n    pass\n\n#TODO - Plot the histogram of the residuals of your current model.",
     "language": "python",
     "metadata": {},
     "outputs": []
    },
    {
     "cell_type": "markdown",
     "metadata": {},
     "source": "See the structure in the plot? This means we've got more modeling to do before we can call it a day! It satisfies neither of our properties - we're often way wrong with our predictions, and seem to systematically **under** predict the number of plays a song will get.\n\nWhat happens if we try and predict the $log$ of number of plays? This controls the exponential behaviour of plays, and gives less weight to the case where our prediction was off by 100 when the true answer was 1000. \n\n#### Exercise 10\n**a.** Adapt your model fitting from above to fit the **log** of the nubmer of plays as your response variable. Print the scores."
    },
    {
     "cell_type": "code",
     "collapsed": false,
     "input": "from sklearn import linear_model\n\n#TODO - Using what you built above, build a model using the log of the number of plays as the response variable.\n",
     "language": "python",
     "metadata": {},
     "outputs": []
    },
    {
     "cell_type": "markdown",
     "metadata": {},
     "source": "**b.** You should see a significantly better $R^2$ and validation $R^2$, though still pretty low. Take a look at the model residuals again, do they look any better?"
    },
    {
     "cell_type": "code",
     "collapsed": false,
     "input": "#TODO Plot residuals of your log model. Note - we want to see these on a \"plays\" scale, not a \"log(plays)\" scale!",
     "language": "python",
     "metadata": {},
     "outputs": []
    },
    {
     "cell_type": "markdown",
     "metadata": {},
     "source": "There must be something we can do here to build a better model. Let's try incorporating country and cluster information.\n\n###2.3 Linear Modeling with Categorical Variables: One-Hot Encoding\n\nLinear models expect **numbers** for input features. But we have some features that we think could be useful that are **discrete** or **categorical**. How do we represent these as numbers?\n\nOne solution is something called one-hot encoding. Basically, we map a discrete space to a vector of binary indicators, then use these indicators as numbers.\n\nFor example, if I had an input column that could take on the values {$RED$, $GREEN$, $BLUE$}, and I wanted to model this with one-hot-encoding, I could use a map:\n\n* $RED = 001$\n* $GREEN = 010$\n* $BLUE = 100$\n\nWe use this representation instead of traditional binary numbers to keep these features independent of one another.\n\nOnce we've established this representation, we replace the columns in our dataset with their one-hot-encoded values. Then, we can fit a linear model on the data once it's encoded this way!\n\nStatisticians and econometricians call these types of binary variables *dummy variables*, but we're going to call it one-hot encoding, because that sounds cooler.\n\nScikit-learn has functionality to transform values to this encoding built in, so we'll leverage that. The functionality is called `DictVectorizer` in scikit-learn. The idea is that you feed a `DictVectorizer` a bunch of examples of your data (that's the `vec.fit` line), and it builds a map from a categorical variable to a one-hot encoded vector like we have in the color example above. Then, you can use this object to translate from categorical values to sequences of numeric ones as we do with `vec.transform`. In the example below, we fit a vectorizer on the training data and use the same vectorizer on the validation data so that the mapping is consistent and we don't run into issues if the categories don't match perfectly between the two data sets.\n\n####Exercise 11\n**a.** Use the code below to generate new training and validation datasets for the datasets *with* the categorical features in them."
    },
    {
     "cell_type": "code",
     "collapsed": false,
     "input": "from sklearn import feature_extraction\n\ndef one_hot_dataframe(data, cols, vec=None):\n    \"\"\" Takes a dataframe and a list of columns that need to be encoded.\n        Returns a tuple comprising the data, and the fitted vectorizor.\n        \n        Based on https://gist.github.com/kljensen/5452382\n    \"\"\"\n    if vec is None:\n        vec = feature_extraction.DictVectorizer()\n        vec.fit(data[cols].to_dict(outtype='records'))\n    \n    vecData = pd.DataFrame(vec.transform(data[cols].to_dict(outtype='records')).toarray())\n    vecData.columns = vec.get_feature_names()\n    vecData.index = data.index\n    \n    data = data.drop(cols, axis=1)\n    data = data.join(vecData)\n    return (data, vec)\n\ndef prep_dset(data, col, vec=None):\n    #Convert the clusters to strings.\n    new_data = data\n    new_data['cluster'] = new_data['cluster'].apply(str)\n    \n    #Encode the data with OneHot Encoding.\n    new_data, vec = one_hot_dataframe(new_data, ['country1','cluster'], vec)\n\n    #Eliminate features we don't want to use in the model.\n    badcols = ['country2','country3','artid','key','age']\n    new_data = new_data.drop(badcols, axis=1)\n    \n    new_data = new_data.fillna(new_data.mean())\n    \n    return (new_data.drop([col], axis=1), pd.DataFrame(new_data[col]), vec)\n    ",
     "language": "python",
     "metadata": {},
     "outputs": [],
     "prompt_number": 20
    },
    {
     "cell_type": "code",
     "collapsed": false,
     "input": "train_cats_features, train_cats_response, vec = prep_dset(train, 'plays')\nvalidation_cats_features, validation_cats_response, _ = prep_dset(validation, 'plays', vec)",
     "language": "python",
     "metadata": {},
     "outputs": [],
     "prompt_number": 21
    },
    {
     "cell_type": "markdown",
     "metadata": {},
     "source": "**b.** Now that you've added the categorical data, let's see how it works with a linear model!"
    },
    {
     "cell_type": "code",
     "collapsed": false,
     "input": "print fit_model_and_score(train_cats_features, train_cats_response, validation_cats_features, validation_cats_response)",
     "language": "python",
     "metadata": {},
     "outputs": [
      {
       "ename": "NameError",
       "evalue": "name 'fit_model_and_score' is not defined",
       "output_type": "pyerr",
       "traceback": [
        "\u001b[1;31m---------------------------------------------------------------------------\u001b[0m\n\u001b[1;31mNameError\u001b[0m                                 Traceback (most recent call last)",
        "\u001b[1;32m<ipython-input-22-54510ec2f0d5>\u001b[0m in \u001b[0;36m<module>\u001b[1;34m()\u001b[0m\n\u001b[1;32m----> 1\u001b[1;33m \u001b[1;32mprint\u001b[0m \u001b[0mfit_model_and_score\u001b[0m\u001b[1;33m(\u001b[0m\u001b[0mtrain_cats_features\u001b[0m\u001b[1;33m,\u001b[0m \u001b[0mtrain_cats_response\u001b[0m\u001b[1;33m,\u001b[0m \u001b[0mvalidation_cats_features\u001b[0m\u001b[1;33m,\u001b[0m \u001b[0mvalidation_cats_response\u001b[0m\u001b[1;33m)\u001b[0m\u001b[1;33m\u001b[0m\u001b[0m\n\u001b[0m",
        "\u001b[1;31mNameError\u001b[0m: name 'fit_model_and_score' is not defined"
       ]
      }
     ],
     "prompt_number": 22
    },
    {
     "cell_type": "markdown",
     "metadata": {},
     "source": "You should see a much better $R^2$ for the training data, but a much *worse* one for the validation data. What happened?\n\nThis is a phenomenon called **overfitting** - our model has too many degrees of freedom (one parameter for each of the 100+ features of this dataset. This means that while our model fits the training data reasonably well, but at the expense of being too specific to that data.\n\nJohn Von Neumann famously said [\"With four parameters I can fit an elephant, and with five I can make him wiggle his trunk!\"](http://www.johndcook.com/blog/2011/06/21/how-to-fit-an-elephant/).\n\n### 2.4 Non-linear modeling and Regression Trees\nSo, we're at an impasse. We didn't have enough features and our model performed poorly, we added too many features and our model looked good on training data, but not so good on test data.\n\nWhat's a modeler to do? \n\nThere are a couple of ways of dealing with this situation - one of them is called **regularization**, which you might try on your own (see `RidgeRegression` or `LassoRegression` in scikit-learn), another is to use a model which captures **non-linear** relationships between the features and the response variable.\n\nOne such type of model was pioneered here at Berkeley, by the late, great Leo Breiman. These models are called **regression trees**.\n\nThe basic idea behind regression treees is to recursively partition the dataset into subsets that are *similar with respect to the response variable*. \n\nIf we take our temperature example, we might observe a non-linear relationship - electricity gets expensive when it's cold outside because we use the heater, but it also gets expensive when it's too hot outside because we run the air conditioning. \n\nA decision tree model might dynamically elect to split the data on the temperature feature, and estimate high prices both for hot and cold, with lower prices for more Berkeley-like temperatures. Go read the [scikit-learn decision trees documentation](http://scikit-learn.org/stable/modules/tree.html) for more background.\n\n####Exercise 12\n**a.** Using the scikit learn `DecsionTreeRegressor` API, write a function that fits trees with the parameter 'max_depth' exposed to the user, and set to 10 by default."
    },
    {
     "cell_type": "code",
     "collapsed": false,
     "input": "from sklearn import tree\n\ndef fit_tree(X, y, depth=10):\n    ##TODO: Using the DecisionTreeRegressor, train a model to depth 10.\n    pass",
     "language": "python",
     "metadata": {},
     "outputs": []
    },
    {
     "cell_type": "markdown",
     "metadata": {},
     "source": "**b.** You should be able to use your same scoring function as above to compute your model scores. Write a function that fits a tree model to your training set and returns the model's score for both the training set and the validation set."
    },
    {
     "cell_type": "code",
     "collapsed": false,
     "input": "def fit_model_and_score_tree(train_features, train_response, val_features, val_response):\n    ##TODO: Fit a tree model and report the score on both the training set and test set.\n    pass",
     "language": "python",
     "metadata": {},
     "outputs": []
    },
    {
     "cell_type": "markdown",
     "metadata": {},
     "source": "**c.** Report the scores on the training and test data for both the basic features and the categorical features."
    },
    {
     "cell_type": "code",
     "collapsed": false,
     "input": "print fit_model_and_score_tree(train_basic_features, train_basic_response, validation_basic_features, validation_basic_response)\nprint fit_model_and_score_tree(train_cats_features, train_cats_response, validation_cats_features, validation_cats_response)",
     "language": "python",
     "metadata": {},
     "outputs": []
    },
    {
     "cell_type": "markdown",
     "metadata": {},
     "source": "Hooray - we've got a model that performs well on the training data set *and* the validation dataset. Which one is better? Why do you think that is. Try varying the depth of the decision tree (from, say, 2 to 20) and see how either data set does with respect to training and validation error. \n\n**d.** Now, let's build a tree to depth 3 and take a look at it."
    },
    {
     "cell_type": "code",
     "collapsed": false,
     "input": "import StringIO \nimport pydot \nfrom IPython.display import Image\n\ntmodel = fit_tree(train_basic_features, train_basic_response, 3)\n\ndef display_tree(tmodel):\n    dot_data = StringIO.StringIO() \n    tree.export_graphviz(tmodel, out_file=dot_data) \n    graph = pydot.graph_from_dot_data(dot_data.getvalue())\n    return Image(graph.create_png())\n    \ndisplay_tree(tmodel)",
     "language": "python",
     "metadata": {},
     "outputs": [
      {
       "ename": "NameError",
       "evalue": "name 'fit_tree' is not defined",
       "output_type": "pyerr",
       "traceback": [
        "\u001b[1;31m---------------------------------------------------------------------------\u001b[0m\n\u001b[1;31mNameError\u001b[0m                                 Traceback (most recent call last)",
        "\u001b[1;32m<ipython-input-31-15f5e372f563>\u001b[0m in \u001b[0;36m<module>\u001b[1;34m()\u001b[0m\n\u001b[0;32m      3\u001b[0m \u001b[1;32mfrom\u001b[0m \u001b[0mIPython\u001b[0m\u001b[1;33m.\u001b[0m\u001b[0mdisplay\u001b[0m \u001b[1;32mimport\u001b[0m \u001b[0mImage\u001b[0m\u001b[1;33m\u001b[0m\u001b[0m\n\u001b[0;32m      4\u001b[0m \u001b[1;33m\u001b[0m\u001b[0m\n\u001b[1;32m----> 5\u001b[1;33m \u001b[0mtmodel\u001b[0m \u001b[1;33m=\u001b[0m \u001b[0mfit_tree\u001b[0m\u001b[1;33m(\u001b[0m\u001b[0mtrain_basic_features\u001b[0m\u001b[1;33m,\u001b[0m \u001b[0mtrain_basic_response\u001b[0m\u001b[1;33m,\u001b[0m \u001b[1;36m3\u001b[0m\u001b[1;33m)\u001b[0m\u001b[1;33m\u001b[0m\u001b[0m\n\u001b[0m\u001b[0;32m      6\u001b[0m \u001b[1;33m\u001b[0m\u001b[0m\n\u001b[0;32m      7\u001b[0m \u001b[1;32mdef\u001b[0m \u001b[0mdisplay_tree\u001b[0m\u001b[1;33m(\u001b[0m\u001b[0mtmodel\u001b[0m\u001b[1;33m)\u001b[0m\u001b[1;33m:\u001b[0m\u001b[1;33m\u001b[0m\u001b[0m\n",
        "\u001b[1;31mNameError\u001b[0m: name 'fit_tree' is not defined"
       ]
      }
     ],
     "prompt_number": 31
    },
    {
     "cell_type": "markdown",
     "metadata": {},
     "source": "**e.** What is the tree doing? It looks like it's making a decision on variables X[4] and X[2] - can you briefly describe, in words, what the tree is doing?"
    },
    {
     "cell_type": "markdown",
     "metadata": {},
     "source": ">TODO: Your answer goes here."
    },
    {
     "cell_type": "markdown",
     "metadata": {},
     "source": "**f.** Finally, let's take a look at variable importance for a tree trained to 10 levels - this is a more formal way of deciding which features are important to the tree. The metric that scikit-learn calculates for feature importance is called GINI importance, and measures how much total 'impurity' is removed by splits from a given node. Variables that are highly discriminitive (e.g. ones that occur frequently throughout the tree) have higher GINI scores. You can read more about these scores [here](http://www.stat.berkeley.edu/~breiman/RandomForests/cc_home.htm#giniimp)."
    },
    {
     "cell_type": "code",
     "collapsed": false,
     "input": "tmodel = fit_tree(train_basic_features, train_basic_response, 10)\n\npd.DataFrame(tmodel.feature_importances_, train_basic_features.columns)",
     "language": "python",
     "metadata": {},
     "outputs": []
    },
    {
     "cell_type": "markdown",
     "metadata": {},
     "source": "**g.** What do you notice? Is the output interpretable? How would you explain this to someone?"
    },
    {
     "cell_type": "markdown",
     "metadata": {},
     "source": ">TODO: Your answer goes here."
    }
   ],
   "metadata": {}
  }
 ]
}