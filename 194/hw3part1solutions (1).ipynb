{
 "metadata": {
  "name": ""
 },
 "nbformat": 3,
 "nbformat_minor": 0,
 "worksheets": [
  {
   "cells": [
    {
     "cell_type": "markdown",
     "metadata": {},
     "source": [
      "CS194-16: Introduction to Data Science\n",
      "\n",
      "__Name:__ *Please put your name*\n",
      "\n",
      "__Student ID:__ *Please put your student id*"
     ]
    },
    {
     "cell_type": "markdown",
     "metadata": {},
     "source": [
      "# Homework 3\n",
      "\n",
      "# Part 1: Predicting Movie Ratings\n",
      "\n",
      "One of the most common uses of data is to predict what users want.  Predicting what users want allows websites to make more money by displaying more relevant ads, allows advertisers to make more money by targeting interested users, and allows online stores to make more money by recommending products to users.  While you may not like the idea of advertisers and stores figuring out what you want to make more money, it can also be useful to you as a consumer.  Sometimes those recommended products on Amazon or recommended movies on Netflix are actually things that you want!\n",
      "\n",
      "In this assignment, you'll explore how to recommend movies to a user.  We'll start with some basic methods, and then use machine learning to make more sophisticated predictions.\n",
      "\n",
      "We'll use Spark for this assignment.  In part 1 of the assignment, you'll run Spark on your local machine and on a smaller dataset.  The purpose of this part of the assignment is to get everything working before adding the complexities of running on many machines.  In part 2, which will be released after the midterm, you'll run Spark on a cluster that we have running for you.\n",
      "\n",
      "We have created a [FAQ](#FAQ) at the bottom of this page to help with common problems you run into.  If you run into a problem, please check the FAQ before posting on Piazza!"
     ]
    },
    {
     "cell_type": "markdown",
     "metadata": {},
     "source": [
      "## Exercise 0: Setup\n",
      "\n",
      "a) As mentioned above, for this part of the assignment, you'll run Spark locally rather than on a cluster, for easier debugging.  Begin by downloading Spark from [this link](http://people.apache.org/~tdas/spark-0.9.1-rc3/spark-0.9.1-bin-cdh4.tgz).  Unzip and untar the file so you have a `spark-0.9.1-bin-cdh4` folder; this folder contains all of the code needed to run Spark.  We need to do a little bit of setup to tell iPython how to find Spark (we set this up for you on the cluster machines, but you need to do it yourself when running in your own VM).  Fill in the path to the `spark` folder you just downloaded in the code below, and then execute it to create a `SparkContext` to use to run jobs."
     ]
    },
    {
     "cell_type": "code",
     "collapsed": false,
     "input": [
      "# Configure the necessary Spark environment.  pyspark needs SPARK_HOME setup\n",
      "# so it knows how to start the Spark master and some local workers for you to use.\n",
      "import os\n",
      "# Fill this in with the path to the spark-0.9.1-bin-cdh4 folder you just downloaded\n",
      "# (e.g., /user/kay/hw3files/spark)\n",
      "# TODO path_to_spark = # YOUR CODE HERE\n",
      "path_to_spark = '/Users/keo/Documents/spark-1'\n",
      "os.environ['SPARK_HOME'] = path_to_spark\n",
      "\n",
      "# Set the python path so that we know where to find the pyspark files.\n",
      "import sys\n",
      "path_to_pyspark = os.path.join(path_to_spark, \"python\")\n",
      "sys.path.insert(0, path_to_pyspark)\n",
      "\n",
      "from pyspark import SparkContext\n",
      "# You can set the app name to whatever you want; this just affects what\n",
      "# will show up in the UI.\n",
      "app_name = \"i<3datascience\"\n",
      "sc = SparkContext(\"local\", app_name)"
     ],
     "language": "python",
     "metadata": {},
     "outputs": [],
     "prompt_number": 1
    },
    {
     "cell_type": "markdown",
     "metadata": {},
     "source": [
      "**Having trouble?  Checkout the [section in the FAQ](#faq_create_context) that covers issues creating a SparkContext.**\n",
      "\n",
      "Even though you're running Spark locally, Spark still starts a helpful web UI where you can see your application and what tasks it's running.  In a browser in the VM, go to [http://localhost:4040](http://localhost:4040/) to see the UI for your application.  There's no Master UI running here (the UI we saw at port 8080 during the lab) because Spark doesn't use a master when you run in local mode.\n",
      "\n",
      "b) Next, download the datafiles that you'll need for the assignment from [https://github.com/amplab/datascience-sp14/raw/master/hw3/part1files.tar.gz](https://github.com/amplab/datascience-sp14/raw/master/hw3/part1files.tar.gz).  You'll do all of your analysis on the `ratings.dat` and `movies.dat` datasets located in the `part1files` folder that you just downloaded.  These are smaller versions of the datasets we used in lab 8.  As in the lab, each entry in the ratings dataset is formatted as `UserID::MovieID::Rating::Timestamp` and each entry in the movies dataset is formatted as `MovieID::Title::Genres`.  Read these two datasets into memory.  You can count the number of entries in each dataset to ensure that you've loaded them correctly; the ratings dataset should have 100K entries and the movies dataset should have 1682 entries.\n",
      "\n",
      "Note that when you create a new dataset using `sc.textFile`, you can give an absolute path to the dataset on your filesystem, e.g. `/Users/kay/part1files/ratings.dat'."
     ]
    },
    {
     "cell_type": "code",
     "collapsed": false,
     "input": [
      "### YOUR CODE HERE\n",
      "def get_ratings_tuple(entry):\n",
      "    items = entry.split(\"::\")\n",
      "    return int(items[0]), int(items[1]), float(items[2]), int(items[3])\n",
      "ratings = sc.textFile(\"/Users/keo/Documents/CS194-16/datascience-labs/hw3/part1/part1files/ratings.dat\").map(get_ratings_tuple)\n",
      "print \"Ratings: %s\" % ratings.cache().count()\n",
      "\n",
      "def get_movie_tuple(entry):\n",
      "    items = entry.split(\"::\")\n",
      "    return int(items[0]), items[1], items[2].split(\"|\")\n",
      "movies = sc.textFile(\"/Users/keo/Documents/CS194-16/datascience-labs/hw3/part1/part1files/movies.dat\").map(get_movie_tuple)\n",
      "print \"Movies: %s\" % movies.cache().count()"
     ],
     "language": "python",
     "metadata": {},
     "outputs": [
      {
       "output_type": "stream",
       "stream": "stdout",
       "text": [
        "Ratings: 100000\n",
        "Movies: 1682"
       ]
      },
      {
       "output_type": "stream",
       "stream": "stdout",
       "text": [
        "\n"
       ]
      }
     ],
     "prompt_number": 2
    },
    {
     "cell_type": "markdown",
     "metadata": {},
     "source": [
      "## Exercise 1: Basic Recommendations\n",
      "\n",
      "a) One way to recommend movies is to always recommend the movies with the highest average rating.  Use Spark to find the name and the average rating of the 5 movies with the highest average rating."
     ]
    },
    {
     "cell_type": "code",
     "collapsed": false,
     "input": [
      "### YOUR CODE HERE\n",
      "def get_average(id_and_ratings):\n",
      "    id = id_and_ratings[0]\n",
      "    movie_ratings = id_and_ratings[1]\n",
      "    avg_rating = sum(movie_ratings) * 1.0 / len(movie_ratings)\n",
      "    return (id, avg_rating)\n",
      "\n",
      "# Compute the average rating for each movie.\n",
      "movie_ids_with_avg_ratings = ratings.map(lambda x: (x[1], x[2])).groupByKey().map(get_average)\n",
      "\n",
      "# Join with the movies dataset to get the movie names.\n",
      "movie_names_with_avg_ratings = movies.map(lambda x: (x[0], x[1])).join(movie_ids_with_avg_ratings)\n",
      "\n",
      "# Sort by the rating to get the 10 movies with the highest rating.\n",
      "sorted_by_rating = movie_names_with_avg_ratings.map(lambda x: (x[1][1], x[1][0])).sortByKey(False)\n",
      "print \"Movies with highest ratings: \", sorted_by_rating.take(5)"
     ],
     "language": "python",
     "metadata": {},
     "outputs": [
      {
       "output_type": "stream",
       "stream": "stdout",
       "text": [
        "Movies with highest ratings:  "
       ]
      },
      {
       "output_type": "stream",
       "stream": "stdout",
       "text": [
        "[(5.0, u'Great Day in Harlem, A (1994)'), (5.0, u'They Made Me a Criminal (1939)'), (5.0, u'Prefontaine (1997)'), (5.0, u'Marlene Dietrich: Shadow and Light (1996) '), (5.0, u'Star Kid (1997)')]\n"
       ]
      }
     ],
     "prompt_number": 3
    },
    {
     "cell_type": "markdown",
     "metadata": {},
     "source": [
      "__Which 5 movies have the highest average rating?__ Great Day in Harlem, They Made Me a Criminal, Prefontaine, Marlene Dietrich: Shadow and Light, Star Kid"
     ]
    },
    {
     "cell_type": "markdown",
     "metadata": {},
     "source": [
      "b) The movies you found may seem a bit suspicious.  How many ratings does each of those movies have?"
     ]
    },
    {
     "cell_type": "code",
     "collapsed": false,
     "input": [
      "### YOUR CODE HERE\n",
      "# Dataset with (movie ID, total ratings) entries.\n",
      "ratings_per_movie = ratings.map(lambda x: (x[1], 1)).reduceByKey(lambda x,y: x+y)\n",
      "\n",
      "# Join this with the movie_names_with_avg_ratings dataset from above to get\n",
      "# a dataset with (movie ID, (total ratings, (name, average rating))) entries.\n",
      "joined_dataset = ratings_per_movie.join(movie_names_with_avg_ratings)\n",
      "\n",
      "def get_avg_rating_movie_name_total_ratings(entry):\n",
      "    movie_id = entry[0]\n",
      "    num_ratings = entry[1][0]\n",
      "    name = entry[1][1][0]\n",
      "    avg_rating = entry[1][1][1]\n",
      "    return (avg_rating, (name, num_ratings))\n",
      "sorted_by_rating_with_counts = joined_dataset.map(get_avg_rating_movie_name_total_ratings).sortByKey(False)\n",
      "print sorted_by_rating_with_counts.take(5)"
     ],
     "language": "python",
     "metadata": {},
     "outputs": [
      {
       "output_type": "stream",
       "stream": "stdout",
       "text": [
        "[(5.0, (u'Great Day in Harlem, A (1994)', 1)), (5.0, (u'They Made Me a Criminal (1939)', 1)), (5.0, (u'Prefontaine (1997)', 3)), (5.0, (u'Marlene Dietrich: Shadow and Light (1996) ', 1)), (5.0, (u'Star Kid (1997)', 3))]\n"
       ]
      }
     ],
     "prompt_number": 5
    },
    {
     "cell_type": "markdown",
     "metadata": {},
     "source": [
      "c) How can you improve your recommendations?  Improve upon your recommendations in part (a) to recommend 5 movies that you expect to be well-liked.  You are not expected to use any sophisticated machine learning techniques here; using just the Spark operations we learned in lab is sufficient."
     ]
    },
    {
     "cell_type": "code",
     "collapsed": false,
     "input": [
      "### YOUR CODE HERE\n",
      "movies_with_enough_ratings = sorted_by_rating_with_counts.filter(lambda x: x[1][1] > 30)\n",
      "print movies_with_enough_ratings.take(5)"
     ],
     "language": "python",
     "metadata": {},
     "outputs": [
      {
       "output_type": "stream",
       "stream": "stdout",
       "text": [
        "[(4.491071428571429, (u'Close Shave, A (1995)', 112)), (4.466442953020135, (u\"Schindler's List (1993)\", 298)), (4.466101694915254, (u'Wrong Trousers, The (1993)', 118)), (4.45679012345679, (u'Casablanca (1942)', 243)), (4.447761194029851, (u'Wallace & Gromit: The Best of Aardman Animation (1996)', 67))]\n"
       ]
      }
     ],
     "prompt_number": 7
    },
    {
     "cell_type": "markdown",
     "metadata": {},
     "source": [
      "__Which 5 movies does your new code recommend?  Describe how you improved on the recommendations in part (a) in at most 4 sentences.__ A Close Shave, Schindler's List, The Wrong Trousers, Casablanca, and Wallace & Gromit: The Best of Aardman Animation.  I improved on the recommendations in part (a) by filtering out movies with 30 or fewer ratings.  Wallace and Gromit movies make a big appearance in this list!"
     ]
    },
    {
     "cell_type": "markdown",
     "metadata": {},
     "source": [
      "## Exercise 2: Collaborative Filtering\n",
      "\n",
      "You've learned about many of the basic transformations and actions that Spark allows us to do on distributed datasets.  Spark also exposes some higher level functionality; in particular, machine learning using a component of Spark called MLlib.  In this assignment, you'll use MLlib to make personalized movie recommendations for you using the movie data we've been analyzing.\n",
      "\n",
      "We're going to use a technique called collaborative filtering.  The basic idea of collaborative filtering is that we start with a matrix whose entries are movie ratings.  Each row represents a user and each column represents a particular movie (shown in red in the diagram below).\n",
      "\n",
      "We don't know all of the entries in this matrix, which is precisely why we need collaborative filtering.  For each user, we have ratings for only a subset of the movies.  With collaborative filtering, the idea is to approximate the ratings matrix by factorizing it as the product of two matrices: one that describes properties of each user (shown in green), and one that describes properties of each movie (shown in blue).\n",
      "\n",
      "![foo](http://ampcamp.berkeley.edu/big-data-mini-course/img/matrix_factorization.png)\n",
      "\n",
      "We want to select these two matrices such that the error for the users/movie pairs where we know the correct ratings is minimized (TODO: Shivaram: what's happening in the RHS of this diagram? help me explain this?!).\n",
      "\n",
      "a) Before jumping into the machine learning, you need to break up the dataset into a test set (which we'll use to train models), a validation set (which we'll use to choose the best model), and a test set.  One way that people often partition data is using the time stamp: using the 1's digit of the timestamp is an essentially random way to split the dataset into multiple groups.  Use the 1's digit of the rating timestamp to separate 60% of the data into a training set, 20% into a validation set, and the remaining 20% into a test set."
     ]
    },
    {
     "cell_type": "code",
     "collapsed": false,
     "input": [
      "### YOUR CODE HERE\n",
      "training = ratings.filter(lambda x: x[3] % 10 < 6)\n",
      "validation = ratings.filter(lambda x: x[3] % 10 >= 6 and x[3] % 10 < 8)\n",
      "test = ratings.filter(lambda x: x[3] % 10 >= 8)\n",
      "\n",
      "print \"Training: %s, validation: %s, test: %s\" % (training.count(), validation.count(), test.count())"
     ],
     "language": "python",
     "metadata": {},
     "outputs": [
      {
       "output_type": "stream",
       "stream": "stdout",
       "text": [
        "Training: 60024, validation: 20435, test: 19541\n"
       ]
      }
     ],
     "prompt_number": 8
    },
    {
     "cell_type": "markdown",
     "metadata": {},
     "source": [
      "After splitting the dataset, your training set should have about 60K entries and the validation and test sets should have about 20K entries (the exact number of entries in each dataset will vary slightly depending on the method you used to split the data into the 3 sets).\n",
      "\n",
      "b) In the next part, you'll generate a few different models, and will need a way to decide which model is best. We'll use the root mean squared error (RMSE) to compute the error of each model.  The root mean squared error is the square root of the average value of `(actual rating - predicted rating)^2` for all users and movies for which we have the actual rating."
     ]
    },
    {
     "cell_type": "markdown",
     "metadata": {},
     "source": [
      "__If your model perfectly predicts the user ratings, what will the root mean squared error be?__ 0\n",
      "\n",
      "__If all of the predicted ratings are off by one (they're 1 higher or lower than the actual ratings), what will the RMSE be?__ 1"
     ]
    },
    {
     "cell_type": "markdown",
     "metadata": {},
     "source": [
      "c) Write a function to compute the sum of squared error given a `predicted` and `actual` RDD."
     ]
    },
    {
     "cell_type": "code",
     "collapsed": false,
     "input": [
      "import math\n",
      "\n",
      "def compute_error(predicted, actual):\n",
      "    \"\"\" Compute the root mean squared error between predicted and actual.\n",
      "    \n",
      "    Params:\n",
      "      predicted: An RDD of predicted ratings for each movie and each user where each entry is in the form (user, movie, rating).\n",
      "      actual: An RDD of actual ratings where each entry is in the form (user, movie, rating).\n",
      "    \"\"\"\n",
      "    # Make each RDD in the format ((user, movie), rating) so we can easily join them together.\n",
      "    predicted_reformatted = predicted.map(lambda x: ((x[0], x[1]), x[2]))\n",
      "    actual_reformatted = actual.map(lambda x: ((x[0], x[1]), x[2]))\n",
      "    predicted_and_actual = predicted_reformatted.join(actual_reformatted)\n",
      "    squared_errors = predicted_and_actual.map(lambda x: (x[1][1] - x[1][0])**2)\n",
      "    total_error = squared_errors.reduce(lambda x,y: x + y)\n",
      "    num_ratings = squared_errors.count()\n",
      "    return math.sqrt(total_error * 1.0 / num_ratings)\n",
      "\n",
      "# sc.parallelize turns a Python list into a Spark RDD.\n",
      "test_predicted = sc.parallelize([\n",
      "    (1, 1, 5),\n",
      "    (1, 2, 3),\n",
      "    (1, 3, 4),\n",
      "    (2, 1, 3),\n",
      "    (2, 2, 2),\n",
      "    (2, 3, 4)])\n",
      "test_actual = sc.parallelize([\n",
      "     (1, 2, 3),\n",
      "     (1, 3, 5),\n",
      "     (2, 1, 5),\n",
      "     (2, 2, 1)])\n",
      "# The error for the test datasets should be 1.2247\n",
      "print \"Error for test datasets: %s\" % compute_error(test_predicted, test_actual)"
     ],
     "language": "python",
     "metadata": {},
     "outputs": [
      {
       "output_type": "stream",
       "stream": "stdout",
       "text": [
        "Error for test datasets: 1.22474487139\n"
       ]
      }
     ],
     "prompt_number": 9
    },
    {
     "cell_type": "markdown",
     "metadata": {},
     "source": [
      "d) In this part, we'll use `ALS.train` to train a bunch of models, and we'll select the best model.  The most important parameter to ALS is the rank, which you can think of as the number of columns in the Users matrix (green in the diagram above) or the number of rows in the Movies matrix.  Train models with ranks of 4, 8, 12, and 16 using the `training` dataset, predict the ratings for the `validation` dataset, and use the `compute_error` function you wrote in part `(b)` to compute the error.  Which model has the lowest error? \n",
      "\n",
      "To create the model, use `ALS.train(training_rdd, rank)`, which takes two parameters: an RDD in the format (user, movie, rating) to use to train the model, and an integer rank.  To predict rating values, call `predictAll` with the `validation` dataset on the model generated with `ALS.train`.  `predictAll` accepts an RDD in the format (user, movie) and outputs an RDD in the format (user, movie, rating)."
     ]
    },
    {
     "cell_type": "code",
     "collapsed": false,
     "input": [
      "from pyspark.mllib.recommendation import ALS\n",
      "\n",
      "formatted_training = training.map(lambda x: (x[0], x[1], x[2])).cache()\n",
      "validation_for_predict = validation.map(lambda x: (x[0], x[1])).cache()\n",
      "validation_for_error = validation.map(lambda x: (x[0], x[1], x[2]))\n",
      "\n",
      "ranks = [4, 8, 12, 16]\n",
      "\n",
      "min_error = float(\"inf\")\n",
      "best_rank = -1\n",
      "for rank in ranks:\n",
      "    model = ALS.train(formatted_training, rank)\n",
      "    predicted_ratings = model.predictAll(validation_for_predict)\n",
      "    error = compute_error(predicted_ratings, validation_for_error)\n",
      "    print rank, error\n",
      "    if error < min_error:\n",
      "        min_error = error\n",
      "        best_rank = rank\n",
      "\n",
      "print \"The best model was trained with rank %s\" % best_rank"
     ],
     "language": "python",
     "metadata": {},
     "outputs": [
      {
       "output_type": "stream",
       "stream": "stdout",
       "text": [
        "4 1.13026336343\n",
        "8"
       ]
      },
      {
       "output_type": "stream",
       "stream": "stdout",
       "text": [
        " 1.39589328378\n",
        "12"
       ]
      },
      {
       "output_type": "stream",
       "stream": "stdout",
       "text": [
        " 1.53966420575\n",
        "16"
       ]
      },
      {
       "output_type": "stream",
       "stream": "stdout",
       "text": [
        " 1.63354056771\n",
        "The best model was trained with rank 4\n"
       ]
      }
     ],
     "prompt_number": 12
    },
    {
     "cell_type": "markdown",
     "metadata": {},
     "source": [
      "e) So far, we used the `training` and `validation` datasets to select the best model.  Since we used these two datasets to determine what model is best, we can't use them to test how good the model is (otherwise we'd be vulnerable to overfitting).  To decide how good our model is, we need to use the `test` dataset.  Use the model you created in part (c) to predict the ratings for the test dataset and compute the RMSE."
     ]
    },
    {
     "cell_type": "code",
     "collapsed": false,
     "input": [
      "test_for_predicting = test.map(lambda x: (x[0], x[1]))\n",
      "model = ALS.train(formatted_training, best_rank)\n",
      "predicted_test = model.predictAll(test_for_predicting)\n",
      "test_for_error = test.map(lambda x: (x[0], x[1], x[2]))\n",
      "\n",
      "test_rmse = compute_error(test_for_error, predicted_test)\n",
      "\n",
      "print \"The model had a RMSE on the test set of %s\" % test_rmse"
     ],
     "language": "python",
     "metadata": {},
     "outputs": [
      {
       "output_type": "stream",
       "stream": "stdout",
       "text": [
        "The model had a RMSE on the test set of 1.13020668949\n"
       ]
      }
     ],
     "prompt_number": 13
    },
    {
     "cell_type": "markdown",
     "metadata": {},
     "source": [
      "## Frequently Asked Questions <a name=\"FAQ\"></a>\n",
      "\n",
      "### How do I get to the UI?\n",
      "\n",
      "The UI for the Spark master is on port 8080, and the hostname is stored as part of the `CLUSTER_URL` variable pre-loaded into this notebook.  From the master UI, you can find the link to your application's UI.\n",
      "\n",
      "### What are all of the operations I can do on a Spark dataset (RDD)?\n",
      "\n",
      "If you click the \"RDD\" link on [this Page](http://spark.apache.org/docs/0.9.0/api/pyspark/index.html), it lists all of the operations you can do on a Spark RDD.  Spark also has a Scala API (Scala is a programming language similar to Java); the [documentation for the Scala functions](http://spark.apache.org/docs/0.9.0/scala-programming-guide.html) is sometimes more helpful, and the Python functions work in the same way.\n",
      "\n",
      "### How do I use matplotlib?\n",
      "\n",
      "There are lots of good examples on the [matplotlib website](http://matplotlib.org/index.html).  For example, [this page](http://matplotlib.org/examples/pylab_examples/simple_plot.html) shows how to plot a single line.\n",
      "\n",
      "### Why am I getting an OutOfMemoryError?\n",
      "\n",
      "If you get an error that looks like: `org.apache.spark.SparkException: Job aborted: Exception while deserializing and fetching task: java.lang.OutOfMemoryError: Java heap space`, it probably means that you've tried to collect too much data on the machine where Python is running.  This is likely to happen if you do `collect()` on a large dataset.  The best way to remedy this problem is to restart your iPython notebook (go to the main server, at port 8888 of the machine you were assigned, click \"Shutdown\" on your notebook, and then open it again) and don't do `collect()` on a large dataset.\n",
      "\n",
      "Curious why you're getting a Java error when your program is written in Python?  Spark is mostly written in Java (and Scala, a language built on top of Java).  We're using `pyspark` here, which uses a translation layer to translate between Python and Java.  Your Python `SparkContext` object is backed by a Java `SparkContext` object; all operations you run on Spark datasets are passsed through this Java object.  So, if you try to collect a result that's too large, the Java Virtual Machine that's running the Java `SparkContext` runs out of memory.\n",
      "\n",
      "### Python / Spark is giving me a crazy weird error!\n",
      "\n",
      "Spark is mostly written in Scala and Java, and the Python version of the code (\"pyspark\") hooks into the Java implementation in a way that can make error messages very difficult to understand.  If you get a hard-to-understand error when you run a Spark operation, we recommend first narrowing down the error so that you know exactly which operation caused the error.  For example, if `rdd.groupByKey().map(lambda x: x[1])` fails with an error, separate the `groupByKey()` and `map()` calls onto separate lines so you know which one is causing the error.  Next, double check the function signature to make sure you're passing the right arguments.  Pyspark can fail with a weird error if a RDD operation is given the wrong number or type of arguments.  If you're still stumped, try using `take(10)` to print out the first 10 entries in the dataset you're calling the RDD operation on.  Make sure the function you're calling and the arguments you're passing in make sense given the format of the input dataset.\n",
      "\n",
      "### I ran some code and nothing happened!\n",
      "\n",
      "Are you sure?  Some of the Spark operations will take a minute or so to run; look at the top of the iPython notebook to see if it says \"Kernel busy\".  If so, it's busy running your code.  Go checkout the Spark UI to see more about what's going on.\n",
      "\n",
      "### My code is taking forever to run.  Did I do something wrong?\n",
      "\n",
      "Probably.  In our solution code, none of the Spark jobs take more than a minute to run.  If you ran something and it's taking forever, double check that you passed in the datasets you inteded to.  If all else failed, create a small sample dataset and try your code on that to make sure things are working.\n",
      "\n",
      "<a name=\"faq_create_context\"></a>\n",
      "### I'm having trouble creating `SparkContext`...\n",
      "\n",
      "#### I'm getting an error that says \"`Exception AttributeError: \"'SparkContext' object has no attribute '_jsc'\"`\".\n",
      "\n",
      "When you try to create a `SparkContext`, you may get an error that ends with a red box with text that looks like: `Exception AttributeError: \"'SparkContext' object has no attribute '_jsc'\" in <bound method SparkContext.__del__ of <pyspark.context.SparkContext object at 0x10c876890>> ignored`.  This is a benign error that happens when the Spark Context tries to shut down,  but it signals that there was an error when creating the SparkContext.  Look at the error messages above this one to see what the real problem is.\n",
      "\n",
      "#### I'm getting an error that says \"`ImportError: No module named pyspark`\"\n",
      "\n",
      "This means that you didn't give the correct path to Spark when setting the `path_to_spark` variable.  Ensure that the path listed here matches the path to the Spark folder you downloaded.  When you change to the correct path, you may need to shutdown and restart your notebook for all of the path setup to work correctly again.\n",
      "\n",
      "#### I'm getting an error that says \"`ValueError: Cannot run multiple SparkContexts at once`\"\n",
      "\n",
      "You've created multiple `SparkContext`s, likely by executing the code to create a new Spark Context multiple times.  Either (a) use the `SparkContext` that you created earlier or (b) shutdown your notebook, restart it, and then re-run the relevant code only a single time."
     ]
    }
   ],
   "metadata": {}
  }
 ]
}